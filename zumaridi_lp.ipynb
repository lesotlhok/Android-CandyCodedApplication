{
  "nbformat": 4,
  "nbformat_minor": 0,
  "metadata": {
    "colab": {
      "name": "zumaridi_lp.ipynb",
      "provenance": [],
      "collapsed_sections": [],
      "toc_visible": true,
      "include_colab_link": true
    },
    "kernelspec": {
      "name": "python3",
      "display_name": "Python 3"
    },
    "language_info": {
      "name": "python"
    }
  },
  "cells": [
    {
      "cell_type": "markdown",
      "metadata": {
        "id": "view-in-github",
        "colab_type": "text"
      },
      "source": [
        "<a href=\"https://colab.research.google.com/github/lesotlhok/Android-CandyCodedApplication/blob/master/zumaridi_lp.ipynb\" target=\"_parent\"><img src=\"https://colab.research.google.com/assets/colab-badge.svg\" alt=\"Open In Colab\"/></a>"
      ]
    },
    {
      "cell_type": "markdown",
      "source": [
        "# ZUMARIDI NLP \n",
        "\n",
        "\n"
      ],
      "metadata": {
        "id": "ggfEL5yHu1Nk"
      }
    },
    {
      "cell_type": "markdown",
      "source": [
        ""
      ],
      "metadata": {
        "id": "P2-XZVX1wYmO"
      }
    },
    {
      "cell_type": "code",
      "source": [
        "\n"
      ],
      "metadata": {
        "id": "0sCCHbYbvBwu"
      },
      "execution_count": 22,
      "outputs": []
    },
    {
      "cell_type": "code",
      "source": [
        "from google.colab import drive\n",
        "drive.mount('/content/drive')"
      ],
      "metadata": {
        "id": "yDFid9e-vtir",
        "colab": {
          "base_uri": "https://localhost:8080/"
        },
        "outputId": "6c8ee01e-1e8b-4f27-ae56-e6e5739603dd"
      },
      "execution_count": null,
      "outputs": [
        {
          "output_type": "stream",
          "name": "stdout",
          "text": [
            "Mounted at /content/drive\n"
          ]
        }
      ]
    },
    {
      "cell_type": "code",
      "source": [
        ""
      ],
      "metadata": {
        "id": "or6y0GfnvVUs"
      },
      "execution_count": 22,
      "outputs": []
    },
    {
      "cell_type": "code",
      "execution_count": 24,
      "metadata": {
        "id": "5XiVnLkeuzyI"
      },
      "outputs": [],
      "source": [
        "from deepspeech import Model\n",
        "#import nummpy as np\n",
        "import os\n",
        "import wave\n",
        "import json\n",
        "from IPython.display import Audio\n",
        "import speech_recognition as sr\n",
        "\n"
      ]
    }
  ]
}